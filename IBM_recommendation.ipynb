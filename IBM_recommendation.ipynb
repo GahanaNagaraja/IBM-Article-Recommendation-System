{
  "nbformat": 4,
  "nbformat_minor": 0,
  "metadata": {
    "colab": {
      "provenance": []
    },
    "kernelspec": {
      "name": "python3",
      "display_name": "Python 3"
    },
    "language_info": {
      "name": "python"
    }
  },
  "cells": [
    {
      "cell_type": "markdown",
      "source": [
        "# **IBM ARTICLE RECOMMENDATION PROJECT**"
      ],
      "metadata": {
        "id": "qcq81DYN8Kis"
      }
    },
    {
      "cell_type": "markdown",
      "source": [
        "## **1.** **Import Libraries**"
      ],
      "metadata": {
        "id": "b22ANARbCPvq"
      }
    },
    {
      "cell_type": "code",
      "execution_count": 1,
      "metadata": {
        "id": "_KZk-3KMarWH"
      },
      "outputs": [],
      "source": [
        "# Import necessary libraries\n",
        "import pandas as pd\n",
        "import numpy as np\n",
        "from sklearn.metrics.pairwise import cosine_similarity\n",
        "from sklearn.feature_extraction.text import TfidfVectorizer\n",
        "from sklearn.cluster import KMeans\n",
        "from numpy.linalg import svd"
      ]
    },
    {
      "cell_type": "markdown",
      "source": [
        "## **2.** **Load the Dataset**"
      ],
      "metadata": {
        "id": "dzp3N-0u4Al1"
      }
    },
    {
      "cell_type": "code",
      "source": [
        "# Load the dataset (ensure the CSV file is in your working directory)\n",
        "df = pd.read_csv(\"user-item-interactions.csv\")\n",
        "\n",
        "# Rename 'email' column to 'user_id' for consistency with standard recommendation system notation\n",
        "df.rename(columns={'email': 'user_id'}, inplace=True)"
      ],
      "metadata": {
        "id": "lZmjXvjA3pAu"
      },
      "execution_count": 2,
      "outputs": []
    },
    {
      "cell_type": "markdown",
      "source": [
        "## **3.** **Exploratory Data Analysis**"
      ],
      "metadata": {
        "id": "lwwaJ19q30hs"
      }
    },
    {
      "cell_type": "code",
      "source": [
        "# Calculate number of unique users\n",
        "unique_users = df['user_id'].nunique()\n",
        "\n",
        "# Calculate number of unique articles\n",
        "unique_articles = df['article_id'].nunique()\n",
        "\n",
        "# Total number of user-article interactions\n",
        "user_article_interactions = df.shape[0]\n",
        "\n",
        "# Find the most viewed article ID and its number of views\n",
        "most_viewed_article_id = df['article_id'].value_counts().idxmax()\n",
        "max_views = df['article_id'].value_counts().max()\n",
        "\n",
        "# Median number of articles interacted with per user\n",
        "median_val = df.groupby('user_id')['article_id'].count().median()\n",
        "\n",
        "# Max number of interactions by any single user\n",
        "max_views_by_user = df.groupby('user_id')['article_id'].count().max()"
      ],
      "metadata": {
        "id": "wy8Abor23y3e"
      },
      "execution_count": 3,
      "outputs": []
    },
    {
      "cell_type": "code",
      "source": [
        "# Print the EDA summary statistics\n",
        "print(f\"Unique Users: {unique_users}\\nUnique Articles: {unique_articles}\")\n",
        "print(f\"Total Interactions: {user_article_interactions}\")\n",
        "print(f\"Most Viewed Article ID: {most_viewed_article_id} with {max_views} views\")\n",
        "print(f\"Median interactions per user: {median_val}, Max interactions by a user: {max_views_by_user}\")\n",
        "\n",
        "# Create a user-item interaction matrix (binary: 1 if user interacted with article, 0 otherwise)\n",
        "user_item = df.groupby(['user_id', 'article_id']).size().unstack().fillna(0)\n",
        "user_item[user_item > 0] = 1  # Convert to binary interaction"
      ],
      "metadata": {
        "colab": {
          "base_uri": "https://localhost:8080/"
        },
        "id": "ZBMFuVbg4JWS",
        "outputId": "88e361de-2750-4c9b-8f98-76a5e11214c7"
      },
      "execution_count": 4,
      "outputs": [
        {
          "output_type": "stream",
          "name": "stdout",
          "text": [
            "Unique Users: 5148\n",
            "Unique Articles: 714\n",
            "Total Interactions: 45993\n",
            "Most Viewed Article ID: 1429.0 with 937 views\n",
            "Median interactions per user: 3.0, Max interactions by a user: 364\n"
          ]
        }
      ]
    },
    {
      "cell_type": "code",
      "source": [
        "def get_article_titles(article_ids, df=df):\n",
        "    \"\"\"Return a list of article titles for the given list of article_ids\"\"\"\n",
        "    article_ids = [float(i) for i in article_ids]  # Ensure type consistency with dataset\n",
        "    title_map = df[['article_id', 'title']].drop_duplicates().set_index('article_id')['title'].to_dict()\n",
        "    return [title_map.get(i, f\"Title not found for Article ID {i}\") for i in article_ids]\n",
        "\n"
      ],
      "metadata": {
        "id": "MH1AjNax_Shp"
      },
      "execution_count": 5,
      "outputs": []
    },
    {
      "cell_type": "markdown",
      "source": [
        "## **4.** **Rank Based Recommendations**"
      ],
      "metadata": {
        "id": "Q-ALiSKG4Ptv"
      }
    },
    {
      "cell_type": "code",
      "source": [
        "def get_top_articles(n, df=df):\n",
        "  \"\"\"\n",
        "    Return the top `n` article IDs based on number of user interactions.\n",
        "\n",
        "    Args:\n",
        "    n (int): Number of top articles to return\n",
        "    df (DataFrame): Dataset containing article interactions\n",
        "\n",
        "    Returns:\n",
        "    list: List of top article IDs\n",
        "    \"\"\"\n",
        "  return df['article_id'].value_counts().head(n).index.tolist()\n",
        "\n",
        "def get_top_article_titles(n, df=df):\n",
        "    \"\"\"\n",
        "    Return the top `n` article titles based on number of user interactions.\n",
        "\n",
        "    Args:\n",
        "    n (int): Number of top articles to return\n",
        "    df (DataFrame): Dataset containing article interactions\n",
        "\n",
        "    Returns:\n",
        "    list: List of article titles corresponding to the top article IDs\n",
        "    \"\"\"\n",
        "    top_articles = get_top_articles(n)\n",
        "    return df[df['article_id'].isin(top_articles)]['title'].drop_duplicates().tolist()\n",
        "\n",
        "print(\"Top 5 Articles from Rank-Based Recommendation:\")\n",
        "ranked_ids = get_top_articles(5)\n",
        "for title in get_article_titles(ranked_ids):\n",
        "    print(title)\n"
      ],
      "metadata": {
        "colab": {
          "base_uri": "https://localhost:8080/"
        },
        "id": "aKd4wDBh4QOv",
        "outputId": "8907ea7d-b00b-4e5c-ad1f-f03eab3b0cba"
      },
      "execution_count": 7,
      "outputs": [
        {
          "output_type": "stream",
          "name": "stdout",
          "text": [
            "Top 5 Articles from Rank-Based Recommendation:\n",
            "use deep learning for image classification\n",
            "insights from new york car accident reports\n",
            "visualize car data with brunel\n",
            "use xgboost, scikit-learn & ibm watson machine learning apis\n",
            "predicting churn with the spss random tree algorithm\n"
          ]
        }
      ]
    },
    {
      "cell_type": "markdown",
      "source": [
        "### Rank-Based Recommendations\n",
        "\n",
        "This approach recommends the most popular articles based on the total number of user interactions (views). It does not rely on user preferences or behavior, making it especially useful for:\n",
        "\n",
        "- New users with no interaction history\n",
        "- Default recommendations on landing pages\n",
        "\n",
        "The functions used:\n",
        "- `get_top_articles(n)`: Returns the top `n` article IDs.\n",
        "- `get_top_article_titles(n)`: Returns the top `n` article titles.\n",
        "\n",
        "Below are the top 5 most popular articles recommended to all users:\n"
      ],
      "metadata": {
        "id": "EW5UI0EI8FO8"
      }
    },
    {
      "cell_type": "markdown",
      "source": [
        "## **5.** **User-User Collaborative Filtering**"
      ],
      "metadata": {
        "id": "Am4Z4LE-4bF1"
      }
    },
    {
      "cell_type": "code",
      "source": [
        "def find_similar_users(user_id, user_item=user_item):\n",
        "    \"\"\"\n",
        "    Compute and return a list of users most similar to the given user based on cosine similarity.\n",
        "\n",
        "    Args:\n",
        "    user_id (str): ID of the user to compare against others\n",
        "    user_item (DataFrame): User-item interaction matrix (binary)\n",
        "\n",
        "    Returns:\n",
        "    Series: A sorted pandas Series of user IDs and similarity scores, excluding the input user\n",
        "    \"\"\"\n",
        "    if user_id not in user_item.index:\n",
        "        return pd.Series(dtype=float)\n",
        "    similarity = cosine_similarity(user_item.loc[[user_id]], user_item)[0]\n",
        "    sim_scores = pd.Series(similarity, index=user_item.index).drop(user_id)\n",
        "    return sim_scores.sort_values(ascending=False)\n",
        "\n",
        "def user_user_recs(user_id, m=10, user_item=user_item):\n",
        "    \"\"\"\n",
        "    Generate top `m` article recommendations for a given user using user-user collaborative filtering.\n",
        "\n",
        "    Args:\n",
        "    user_id (str): ID of the user to generate recommendations for\n",
        "    m (int): Number of recommendations to return\n",
        "    user_item (DataFrame): User-item interaction matrix\n",
        "\n",
        "    Returns:\n",
        "    list: List of recommended article IDs that the user has not yet interacted with\n",
        "    \"\"\"\n",
        "    if user_id not in user_item.index:\n",
        "        return []\n",
        "    sim_users = find_similar_users(user_id, user_item)\n",
        "    recs = []\n",
        "    user_articles = user_item.loc[user_id]\n",
        "\n",
        "    for sim_user in sim_users.index:\n",
        "        sim_articles = user_item.loc[sim_user]\n",
        "        new_recs = sim_articles[sim_articles > 0].index.difference(user_articles[user_articles > 0].index)\n",
        "        recs.extend(new_recs)\n",
        "        if len(recs) >= m:\n",
        "            break\n",
        "\n",
        "    return list(pd.Series(recs).drop_duplicates().head(m))\n"
      ],
      "metadata": {
        "id": "aFMkceBs4hbM"
      },
      "execution_count": 8,
      "outputs": []
    },
    {
      "cell_type": "code",
      "source": [
        "# Fallback Recommendations for New Users\n",
        "\n",
        "def new_user_recs(n=5):\n",
        "    \"\"\"\n",
        "    Provide top-ranked articles for new users with no interaction history.\n",
        "\n",
        "    Args:\n",
        "    n (int): Number of articles to recommend\n",
        "\n",
        "    Returns:\n",
        "    list: List of top article IDs based on overall popularity\n",
        "    \"\"\"\n",
        "    return get_top_articles(n)\n",
        "\n",
        "# Example usage\n",
        "print(\"New User Recommendations:\")\n",
        "print(get_article_titles(new_user_recs()))\n"
      ],
      "metadata": {
        "colab": {
          "base_uri": "https://localhost:8080/"
        },
        "id": "Wgi-uN005jjr",
        "outputId": "a6ac729a-0ebe-4ecc-9b34-b6478556f85b"
      },
      "execution_count": 9,
      "outputs": [
        {
          "output_type": "stream",
          "name": "stdout",
          "text": [
            "New User Recommendations:\n",
            "['use deep learning for image classification', 'insights from new york car accident reports', 'visualize car data with brunel', 'use xgboost, scikit-learn & ibm watson machine learning apis', 'predicting churn with the spss random tree algorithm']\n"
          ]
        }
      ]
    },
    {
      "cell_type": "markdown",
      "source": [
        "### New User Recommendations\n",
        "\n",
        "To address the cold start problem where a user has no prior interactions, we recommend globally top-ranked articles using `new_user_recs()`.\n",
        "This ensures a sensible fallback in the absence of user-specific data.\n"
      ],
      "metadata": {
        "id": "GMw-67XR5mg9"
      }
    },
    {
      "cell_type": "markdown",
      "source": [
        "## **6.** **Content-Based Recommendations**"
      ],
      "metadata": {
        "id": "aZxYliRb4m-j"
      }
    },
    {
      "cell_type": "code",
      "source": [
        "# Prepare article content (here using title as proxy for article content)\n",
        "article_content = df[['article_id', 'title']].drop_duplicates().copy()\n",
        "article_content.rename(columns={'title': 'content'}, inplace=True)\n",
        "article_content = article_content.dropna(subset=['content'])\n",
        "\n",
        "# Apply TF-IDF vectorization to article content\n",
        "tfidf = TfidfVectorizer(stop_words='english')\n",
        "tfidf_matrix = tfidf.fit_transform(article_content['content'])\n",
        "\n",
        "# TF-IDF transformation\n",
        "tfidf = TfidfVectorizer(stop_words='english')\n",
        "tfidf_matrix = tfidf.fit_transform(article_content['content'])\n",
        "\n",
        "# Elbow Method to find optimal number of clusters\n",
        "import matplotlib.pyplot as plt\n",
        "\n",
        "distortions = []\n",
        "K = range(2, 10)\n",
        "for k in K:\n",
        "    kmeans = KMeans(n_clusters=k, random_state=42)\n",
        "    kmeans.fit(tfidf_matrix)\n",
        "    distortions.append(kmeans.inertia_)\n",
        "\n",
        "plt.figure(figsize=(8, 5))\n",
        "plt.plot(K, distortions, 'bo-')\n",
        "plt.xlabel('Number of clusters')\n",
        "plt.ylabel('Inertia')\n",
        "plt.title('Elbow Method For Optimal k')\n",
        "plt.grid(True)\n",
        "plt.show()\n",
        "\n",
        "\n",
        "# Apply KMeans clustering to group similar articles\n",
        "kmeans = KMeans(n_clusters=5, random_state=42)\n",
        "article_content['cluster'] = kmeans.fit_predict(tfidf_matrix)\n"
      ],
      "metadata": {
        "id": "g7GV5s-o4sWM",
        "colab": {
          "base_uri": "https://localhost:8080/",
          "height": 487
        },
        "outputId": "afed3b54-cce5-432c-9ff4-a002f9e2e0c4"
      },
      "execution_count": 10,
      "outputs": [
        {
          "output_type": "display_data",
          "data": {
            "text/plain": [
              "<Figure size 800x500 with 1 Axes>"
            ],
            "image/png": "[encoded data removed]"
          },
          "metadata": {}
        }
      ]
    },
    {
      "cell_type": "markdown",
      "source": [
        "### Optimal Cluster Selection (Elbow Method)\n",
        "\n",
        "To determine the optimal number of clusters for article content grouping, we used the Elbow Method.\n",
        "The plot above shows that after `k=5`, the reduction in inertia slows down, indicating that 5 is a reasonable number of clusters to use.\n"
      ],
      "metadata": {
        "id": "SsdgwC5v2fjN"
      }
    },
    {
      "cell_type": "code",
      "source": [
        "def content_recs(article_id, n=5, articles=article_content):\n",
        "    \"\"\"\n",
        "    Recommend `n` articles that are similar in content to a given article using KMeans clustering on TF-IDF vectors.\n",
        "\n",
        "    Args:\n",
        "    article_id (float or int): ID of the article to find similar content for\n",
        "    n (int): Number of recommendations to return\n",
        "    articles (DataFrame): DataFrame containing article_id, content, and cluster assignments\n",
        "\n",
        "    Returns:\n",
        "    list: List of article IDs in the same cluster as the input article (excluding the input itself)\n",
        "    \"\"\"\n",
        "    if article_id not in articles['article_id'].values:\n",
        "        return []\n",
        "    cluster = articles[articles['article_id'] == article_id]['cluster'].values[0]\n",
        "    similar_articles = articles[(articles['cluster'] == cluster) & (articles['article_id'] != article_id)]\n",
        "    return similar_articles['article_id'].head(n).tolist()"
      ],
      "metadata": {
        "id": "sMU0K6TI5TDR"
      },
      "execution_count": 11,
      "outputs": []
    },
    {
      "cell_type": "markdown",
      "source": [
        "## **7.** **Matrix Factorization (SVD)**"
      ],
      "metadata": {
        "id": "DLnIy-nJ4xvD"
      }
    },
    {
      "cell_type": "code",
      "source": [
        "# Perform Singular Value Decomposition\n",
        "U, s, Vt = svd(user_item, full_matrices=False)\n",
        "\n",
        "# Plot cumulative explained variance to choose optimal number of features\n",
        "explained_variance = np.cumsum(s**2 / np.sum(s**2))\n",
        "\n",
        "plt.figure(figsize=(8,5))\n",
        "plt.plot(range(1, len(explained_variance)+1), explained_variance, marker='o')\n",
        "plt.axvline(x=20, color='red', linestyle='--')\n",
        "plt.xlabel('Number of Latent Features')\n",
        "plt.ylabel('Cumulative Variance Explained')\n",
        "plt.title('Explained Variance by Number of Latent Features')\n",
        "plt.grid(True)\n",
        "plt.show()\n",
        "\n",
        "# Select number of latent features\n",
        "k = 20\n",
        "U_k, S_k, Vt_k = U[:, :k], np.diag(s[:k]), Vt[:k, :]\n",
        "\n",
        "# Predict user-article interaction scores using reduced matrices\n",
        "user_predicted = np.dot(np.dot(U_k, S_k), Vt_k)\n",
        "user_pred_df = pd.DataFrame(user_predicted, index=user_item.index, columns=user_item.columns)\n"
      ],
      "metadata": {
        "id": "yz9IQXCz450m",
        "colab": {
          "base_uri": "https://localhost:8080/",
          "height": 487
        },
        "outputId": "72e3f0ce-29bf-4fc7-a02d-76cbfe27fb08"
      },
      "execution_count": 12,
      "outputs": [
        {
          "output_type": "display_data",
          "data": {
            "text/plain": [
              "<Figure size 800x500 with 1 Axes>"
            ],
            "image/png": "[encoded data removed]"
          },
          "metadata": {}
        }
      ]
    },
    {
      "cell_type": "markdown",
      "source": [
        "### Latent Feature Selection for SVD\n",
        "\n",
        "To choose the optimal number of latent features for matrix factorization, we plotted the cumulative variance explained.\n",
        "We selected `k=20` as it captures a significant amount of the variance while keeping computation efficient.\n"
      ],
      "metadata": {
        "id": "C_QK56qi26Qz"
      }
    },
    {
      "cell_type": "code",
      "source": [
        "def svd_recs(user_id, m=10):\n",
        "    \"\"\"\n",
        "    Generate top `m` article recommendations for a user using matrix factorization (SVD).\n",
        "\n",
        "    Args:\n",
        "    user_id (str): The ID of the user to recommend articles for\n",
        "    m (int): Number of recommendations to return\n",
        "\n",
        "    Returns:\n",
        "    list: List of article IDs recommended for the user\n",
        "    \"\"\"\n",
        "    if user_id not in user_item.index:\n",
        "        return []\n",
        "    known = user_item.loc[user_id][user_item.loc[user_id] > 0].index\n",
        "    preds = user_pred_df.loc[user_id].sort_values(ascending=False)\n",
        "    return preds[~preds.index.isin(known)].head(m).index.tolist()"
      ],
      "metadata": {
        "id": "kQQ3EETT4CFS"
      },
      "execution_count": 13,
      "outputs": []
    },
    {
      "cell_type": "code",
      "source": [
        "# Transpose Vt_k to get article embeddings (each row = article vector in latent space)\n",
        "article_embeddings = pd.DataFrame(Vt_k.T, index=user_item.columns)\n",
        "\n",
        "def svd_article_recs(article_id, n=5):\n",
        "    \"\"\"\n",
        "    Recommend similar articles based on SVD latent features using cosine similarity.\n",
        "\n",
        "    Args:\n",
        "    article_id (int/str): ID of the article to find similar ones for\n",
        "    n (int): Number of recommendations\n",
        "\n",
        "    Returns:\n",
        "    list: List of recommended article IDs\n",
        "    \"\"\"\n",
        "    if article_id not in article_embeddings.index:\n",
        "        return []\n",
        "    article_vec = article_embeddings.loc[[article_id]]\n",
        "    similarity = cosine_similarity(article_vec, article_embeddings)[0]\n",
        "    sim_scores = pd.Series(similarity, index=article_embeddings.index).drop(article_id)\n",
        "    return sim_scores.sort_values(ascending=False).head(n).index.tolist()\n"
      ],
      "metadata": {
        "id": "i5izgZaz4F6p"
      },
      "execution_count": 14,
      "outputs": []
    },
    {
      "cell_type": "code",
      "source": [
        "# Example usage for user-based SVD recs\n",
        "example_user_id = user_item.index[0]\n",
        "print(f\"SVD-Based Recommendations for User ID: {example_user_id}\")\n",
        "print(svd_recs(example_user_id))\n",
        "\n",
        "# Example usage for article-to-article SVD recs\n",
        "print(f\"SVD-Based Article Recommendations for Article ID: {most_viewed_article_id}\")\n",
        "print(svd_article_recs(most_viewed_article_id))\n"
      ],
      "metadata": {
        "colab": {
          "base_uri": "https://localhost:8080/"
        },
        "id": "RGa8yF_G4O6N",
        "outputId": "dbb1d0f7-a2d0-4e5a-ded2-30d23cf8856d"
      },
      "execution_count": 15,
      "outputs": [
        {
          "output_type": "stream",
          "name": "stdout",
          "text": [
            "SVD-Based Recommendations for User ID: 0000b6387a0366322d7fbfc6434af145adf7fed1\n",
            "[1351.0, 164.0, 109.0, 1166.0, 1176.0, 1274.0, 1427.0, 730.0, 260.0, 151.0]\n",
            "SVD-Based Article Recommendations for Article ID: 1429.0\n",
            "[940.0, 1066.0, 1122.0, 870.0, 705.0]\n"
          ]
        }
      ]
    },
    {
      "cell_type": "markdown",
      "source": [
        "### Matrix Factorization with SVD\n",
        "\n",
        "We performed Singular Value Decomposition (SVD) to reduce dimensionality of the user-item interaction matrix and reconstruct predictions for unseen user-article interactions. We selected `k=20` latent features based on the explained variance plot.\n",
        "\n",
        "- `svd_recs()` generates article recommendations for a specific user.\n",
        "- `svd_article_recs()` finds similar articles using latent embeddings and cosine similarity.\n"
      ],
      "metadata": {
        "id": "wURE0J474TP_"
      }
    },
    {
      "cell_type": "code",
      "source": [
        "# Print top 5 most popular articles\n",
        "print(\"Top 5 Popular Articles:\")\n",
        "for title in get_top_article_titles(5):\n",
        "    print(title)"
      ],
      "metadata": {
        "colab": {
          "base_uri": "https://localhost:8080/"
        },
        "id": "WYeT9QcY5AL_",
        "outputId": "7f0df45b-96d8-412d-aef7-5e524a81027b"
      },
      "execution_count": 16,
      "outputs": [
        {
          "output_type": "stream",
          "name": "stdout",
          "text": [
            "Top 5 Popular Articles:\n",
            "use deep learning for image classification\n",
            "predicting churn with the spss random tree algorithm\n",
            "visualize car data with brunel\n",
            "use xgboost, scikit-learn & ibm watson machine learning apis\n",
            "insights from new york car accident reports\n"
          ]
        }
      ]
    },
    {
      "cell_type": "markdown",
      "source": [
        "## **8. Results & Discussion**\n",
        "\n",
        "In this project, we built a comprehensive recommendation engine using a combination of techniques:\n",
        "\n",
        "- **Rank-Based Recommendations:** Recommended the most popular articles based on overall interaction counts. This method is simple and effective for new users or when no personalization is needed.\n",
        "  \n",
        "- **Collaborative Filtering (User-User):** Identified similar users using cosine similarity on the user-item interaction matrix. Articles read by similar users were recommended, allowing for personalized suggestions based on user behavior.\n",
        "\n",
        "- **Content-Based Recommendations (TF-IDF + KMeans):** Grouped articles into clusters based on their textual content using TF-IDF vectorization and KMeans clustering. Recommended articles from the same cluster to users based on the content of a selected article.\n",
        "\n",
        "- **Matrix Factorization (SVD):** Reduced the dimensionality of the user-item matrix to capture latent features. Provided both user-based and article-based recommendations using SVD-predicted interactions and cosine similarity.\n",
        "\n",
        "### Recommendation Strategy by Scenario\n",
        "\n",
        "| Scenario                      | Method Used                      |\n",
        "|------------------------------|----------------------------------|\n",
        "| Known users with interactions | `user_user_recs()`               |\n",
        "| New users with no history     | `new_user_recs()`                |\n",
        "| Similar article suggestions   | `content_recs()`, `svd_article_recs()` |\n",
        "| Personalized SVD suggestions  | `svd_recs()`                     |\n",
        "\n",
        "\n",
        "### Evaluation & Next Steps\n",
        "\n",
        "This project uses implicit feedback (clicks/interactions) without explicit user ratings, which makes quantitative evaluation difficult in this setup. In a real-world scenario, we could evaluate the system using:\n",
        "\n",
        "- **Offline metrics** such as Precision@k, Recall@k, MAP\n",
        "- **A/B testing** with different user groups to measure:\n",
        "  - Click-through rate (CTR)\n",
        "  - Time spent on recommended articles\n",
        "  - Engagement and return visits\n",
        "\n",
        "To further enhance the system:\n",
        "- Add time-decay to emphasize recent interactions\n",
        "- Introduce collaborative filtering with matrix factorization libraries like `Surprise` or `LightFM`\n",
        "- Build a frontend interface or deploy the engine as an API for real-time use\n",
        "\n",
        "Overall, the hybrid approach ensures that our system is robust and handles multiple recommendation use-cases effectively.\n"
      ],
      "metadata": {
        "id": "5slRd2bS6ZRU"
      }
    }
  ]
}